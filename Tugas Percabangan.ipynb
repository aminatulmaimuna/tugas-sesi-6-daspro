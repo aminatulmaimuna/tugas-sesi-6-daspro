{
 "cells": [
  {
   "cell_type": "markdown",
   "id": "ec559bbf-fb6f-4751-9be0-cae922e5911a",
   "metadata": {},
   "source": [
    "<h1>Penerimaan Calon Programmer</h1>"
   ]
  },
  {
   "cell_type": "code",
   "execution_count": 28,
   "id": "50249aa3-ada8-4f5d-b4ed-f0f09b7d9e7e",
   "metadata": {},
   "outputs": [
    {
     "name": "stdin",
     "output_type": "stream",
     "text": [
      "Insert Nilai :  100\n"
     ]
    },
    {
     "name": "stdout",
     "output_type": "stream",
     "text": [
      "100 = A\n",
      "LOLOS \n",
      "Selamat Kamu Berhasil Menjadi Calon Programmer!\n"
     ]
    }
   ],
   "source": [
    "nilai = int(input(\"Insert Nilai : \"))\n",
    "\n",
    "grade =''\n",
    "\n",
    "if nilai >= 80 and nilai <=100:\n",
    "    if nilai ==80:\n",
    "        print(f\"{nilai} = A\")\n",
    "    if nilai <= 100:\n",
    "        print(f\"{nilai} = A\")\n",
    "        grade = 'LOLOS'\n",
    "elif nilai >= 60 and nilai <=80:\n",
    "    if nilai ==60:\n",
    "        print(f\"{nilai} = B\")\n",
    "    if nilai <= 80:\n",
    "        print(f\"{nilai} = B\")\n",
    "        grade ='DIPERTIMBANGKAN'\n",
    "elif nilai < 60:\n",
    "    print(f\"{nilai} = GAGAL\")\n",
    "\n",
    "if grade !='':\n",
    "    print(f\"{grade} \\nSelamat Kamu Berhasil Menjadi Calon Programmer!\")\n",
    "else:\n",
    "    print(f\"{grade} \\nMaaf Kamu Belum Berhasil Menjadi Calon Programmer\")"
   ]
  },
  {
   "cell_type": "markdown",
   "id": "a858b779-44cc-4eed-b5d3-25497a011c1f",
   "metadata": {},
   "source": [
    "<h1>Persegi FC</h1>"
   ]
  },
  {
   "cell_type": "code",
   "execution_count": 54,
   "id": "4e97265b-3b6b-453b-b1f3-f44087135184",
   "metadata": {},
   "outputs": [
    {
     "name": "stdin",
     "output_type": "stream",
     "text": [
      "Masukkan nomor punggung :  9\n"
     ]
    },
    {
     "name": "stdout",
     "output_type": "stream",
     "text": [
      "9 Defender\n"
     ]
    }
   ],
   "source": [
    "nomor = int(input(\"Masukkan nomor punggung : \"))\n",
    "\n",
    "if nomor % 2 == 0:\n",
    "    print(f\"{nomor} Target Attacker\")\n",
    "else:\n",
    "    print(f\"{nomor} Defender\")"
   ]
  }
 ],
 "metadata": {
  "kernelspec": {
   "display_name": "Python 3 (ipykernel)",
   "language": "python",
   "name": "python3"
  },
  "language_info": {
   "codemirror_mode": {
    "name": "ipython",
    "version": 3
   },
   "file_extension": ".py",
   "mimetype": "text/x-python",
   "name": "python",
   "nbconvert_exporter": "python",
   "pygments_lexer": "ipython3",
   "version": "3.11.7"
  }
 },
 "nbformat": 4,
 "nbformat_minor": 5
}
