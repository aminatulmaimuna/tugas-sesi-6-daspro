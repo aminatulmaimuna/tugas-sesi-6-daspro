{
 "cells": [
  {
   "cell_type": "code",
   "execution_count": 1,
   "metadata": {},
   "outputs": [
    {
     "name": "stdout",
     "output_type": "stream",
     "text": [
      "Nomor punggung 65 dapat berfungsi sebagai posisi:\n",
      "- Defender\n"
     ]
    }
   ],
   "source": [
    "nomor_punggung = int(input(\"Masukkan nomor punggung: \"))\n",
    "\n",
    "posisi = []\n",
    "\n",
    "# Cek nomor punggung genap\n",
    "if nomor_punggung % 2 == 0:\n",
    "    posisi.append(\"Target Attacker\")\n",
    "\n",
    "# Cek nomor punggung genap antara 50-100\n",
    "if nomor_punggung % 2 == 0 and 50 <= nomor_punggung <= 100:\n",
    "    posisi.append(\"Capten Team\")\n",
    "\n",
    "# Cek nomor punggung ganjil\n",
    "if nomor_punggung % 2 != 0:\n",
    "    posisi.append(\"Defender\")\n",
    "\n",
    "# Cek nomor punggung ganjil lebih dari 90\n",
    "if nomor_punggung % 2 != 0 and nomor_punggung > 90:\n",
    "    posisi.append(\"Playmaker\")\n",
    "\n",
    "# Cek nomor punggung ganjil kelipatan dari 3 dan 5\n",
    "if nomor_punggung % 2 != 0 and nomor_punggung % 3 == 0 and nomor_punggung % 5 == 0:\n",
    "    posisi.append(\"Keeper\")\n",
    "\n",
    "# Tampilkan hasil\n",
    "if len(posisi) == 0:\n",
    "    print(\"Nomor punggung tidak memenuhi syarat posisi apa pun.\")\n",
    "else:\n",
    "    print(f\"Nomor punggung {nomor_punggung} dapat berfungsi sebagai posisi:\")\n",
    "    for p in posisi:\n",
    "        print(\"-\", p)"
   ]
  }
 ],
 "metadata": {
  "kernelspec": {
   "display_name": "Python 3",
   "language": "python",
   "name": "python3"
  },
  "language_info": {
   "codemirror_mode": {
    "name": "ipython",
    "version": 3
   },
   "file_extension": ".py",
   "mimetype": "text/x-python",
   "name": "python",
   "nbconvert_exporter": "python",
   "pygments_lexer": "ipython3",
   "version": "3.11.2"
  }
 },
 "nbformat": 4,
 "nbformat_minor": 2
}
